{
 "cells": [
  {
   "cell_type": "code",
   "execution_count": 1,
   "metadata": {},
   "outputs": [],
   "source": [
    "from docx2python import docx2python\n",
    "import numpy as np\n",
    "import os\n",
    "import json\n",
    "import pandas as pd\n",
    "import pickle\n",
    "import time\n",
    "import tensorflow as tf\n",
    "import matplotlib.pyplot as plt\n",
    "\n",
    "#df, data frame of \"sweunions.json\"\n",
    "#em, pre-trained embedding dictionary, 2,000,000 * 300"
   ]
  },
  {
   "cell_type": "markdown",
   "metadata": {},
   "source": [
    "#### Get a graphics card (Colab)"
   ]
  },
  {
   "cell_type": "code",
   "execution_count": null,
   "metadata": {},
   "outputs": [],
   "source": [
    "from google.colab import drive\n",
    "drive.mount('/content/drive')"
   ]
  },
  {
   "cell_type": "code",
   "execution_count": null,
   "metadata": {},
   "outputs": [],
   "source": [
    "cd '/content/drive/My Drive/Colab Notebooks/TM'"
   ]
  },
  {
   "cell_type": "code",
   "execution_count": null,
   "metadata": {},
   "outputs": [],
   "source": [
    "ls"
   ]
  },
  {
   "cell_type": "code",
   "execution_count": null,
   "metadata": {},
   "outputs": [],
   "source": [
    "import os\n",
    "import warnings\n",
    "\n",
    "# Ignore FutureWarning from numpy\n",
    "warnings.simplefilter(action='ignore', category=FutureWarning)\n",
    "\n",
    "import keras.backend as K\n",
    "import tensorflow as tf\n",
    "\n",
    "os.environ[\"CUDA_DEVICE_ORDER\"]=\"PCI_BUS_ID\";\n",
    " \n",
    "# The GPU id to use, usually either \"0\" or \"1\";\n",
    "os.environ[\"CUDA_VISIBLE_DEVICES\"]=\"0\";\n",
    "\n",
    "# Allow growth of GPU memory, otherwise it will always look like all the memory is being used\n",
    "physical_devices = tf.config.experimental.list_physical_devices('GPU')\n",
    "tf.config.experimental.set_memory_growth(physical_devices[0], True) "
   ]
  },
  {
   "cell_type": "markdown",
   "metadata": {},
   "source": [
    "Trade Unions (2010-2020, förbundspress):\n",
    "    * A, LO centralt\n",
    "    * HR, Hotell- o resturangfacket;\n",
    "    * H, Handelsanställdas förbund\n",
    "    * L, Livsmedelsarbetarförbundet\n",
    "    * K, Kommunalarbetarförbundet\n",
    "    * DA,IF Metall\n",
    "    * FF,Fastighetsansälldas förbund\n",
    "    * BA,Byggnadsarbetarförbundet\n",
    "    * E, Elektrikerförbundet\n",
    "    * M, Målarna\n",
    "    * S, Seko\n",
    "    * T, Transportarbetarförbundet"
   ]
  },
  {
   "cell_type": "markdown",
   "metadata": {},
   "source": [
    "### 1. Data Preparation"
   ]
  },
  {
   "cell_type": "markdown",
   "metadata": {},
   "source": [
    "#### Load Session/States"
   ]
  },
  {
   "cell_type": "code",
   "execution_count": 2,
   "metadata": {},
   "outputs": [],
   "source": [
    "#vocab0= pickle.load( open( \"./States/code0_vocab.p\", \"rb\" ) ) ## load vocab from code_0   NOOOOOOOOOOOOOO!!!!!!!!!!!!\n",
    "#vocab1= pickle.load( open( \"./States/code1_vocab1.p\", \"rb\" ) ) ## load vocab from code_1  \n",
    "#vocab= pickle.load( open( \"./States/code1_vocab.p\", \"rb\" ) ) ## load vocab from code_1, including 'unk' NOOOOOOOOOOOOOO!!!!!!!!!!!!\n",
    "vocab_df1=pickle.load(open( \"./States/code1_vocab_df1.p\", \"rb\" ) ) ## load state for local words in df1 12633 words, exclusive 'unk'\n",
    "vocab_common=pickle.load(open( \"./States/code1_vocab_common.p\", \"rb\" ) ) ## save state common vocab_df1+lemmatized words in em.keys(),   \n",
    "                                                                        ## 10939, exclusive 'unk'\n",
    "\n",
    "#em= pickle.load( open( \"./States/code1_em.p\", \"rb\" ) ) ## load pre-trained embeddings\n",
    "em_common= pickle.load( open( \"./States/code1_em_common.p\", \"rb\" ) ) ## load common embeddings 10939\n",
    "em_weights0=pickle.load(open( \"./States/code1_em_weights0.p\", \"rb\" ) ) ## save state for initial embeddings with pretrained vectors\n",
    "\n",
    "#tags= pickle.load( open( \"./States/code1_tags.p\", \"rb\" ) ) ## load unique tags of docs\n",
    "tags1= pickle.load( open( \"./States/code1_tags1.p\", \"rb\" ) ) ## load unique tags of sentences 16\n",
    "\n",
    "[Xtrain,Ytrain]=pickle.load(open( \"./States/code1_train.p\", \"rb\" ) ) ## save state for training data\n",
    "[Xval,Yval]=pickle.load(open( \"./States/code1_valid.p\", \"rb\" ) ) ## save state for valid data\n",
    "[Xtest,Ytest]=pickle.load(open( \"./States/code1_test.p\", \"rb\" ) ) ## save state for test data\n",
    "[X,Y]=pickle.load(open( \"./States/code1_all.p\", \"rb\" ) ) ## save state for valid data"
   ]
  },
  {
   "cell_type": "code",
   "execution_count": null,
   "metadata": {},
   "outputs": [],
   "source": [
    "##!!!!!! NO MORE RUN  !!!!!!!!!!!!\n",
    "vocab1=em.keys()  ## vocab from pretained embeddings\n",
    "#pickle.dump(vocab1, open( \"./States/code1_vocab1.p\", \"wb\" ) ) ## save state for vocab1\n",
    "vocab=[e for e in vocab0 if e in vocab1]  ## common words between pretrained embeddings and data of \"press\", excluding \"unk\"\n",
    "vocab.append('unk') ## common words inclusive 'unk'\n",
    "pickle.dump(vocab, open( \"./States/code1_vocab.p\", \"wb\" ) ) ## save state for vocab1\n",
    "vocab1=list(vocab1)\n",
    "pickle.dump(vocab1, open( \"./States/code1_vocab1.p\", \"wb\" ) ) ## save state for common vocab"
   ]
  },
  {
   "cell_type": "code",
   "execution_count": 3,
   "metadata": {},
   "outputs": [
    {
     "data": {
      "text/plain": [
       "False"
      ]
     },
     "execution_count": 3,
     "metadata": {},
     "output_type": "execute_result"
    }
   ],
   "source": [
    "#len(vocab_df1)\n",
    "'unk' in vocab_common"
   ]
  },
  {
   "cell_type": "markdown",
   "metadata": {},
   "source": [
    "#### Read press conference documents"
   ]
  },
  {
   "cell_type": "code",
   "execution_count": 4,
   "metadata": {},
   "outputs": [],
   "source": [
    "with open('sweunions.json','r',encoding='utf-8') as source: #C:/Users/A550240/Desktop/LIU/3.2_TextMining/Project/1.SelectedData/\n",
    "    df = pd.read_json(source) ## whole document\n",
    "with open('sweunions_sentences.json','r',encoding='utf-8') as source: #C:/Users/A550240/Desktop/LIU/3.2_TextMining/Project/1.SelectedData/\n",
    "    df1 = pd.read_json(source) ## each sentence"
   ]
  },
  {
   "cell_type": "code",
   "execution_count": 5,
   "metadata": {},
   "outputs": [
    {
     "data": {
      "text/plain": [
       "(483, 4)"
      ]
     },
     "execution_count": 5,
     "metadata": {},
     "output_type": "execute_result"
    }
   ],
   "source": [
    "df.shape  ## shape of 482*4"
   ]
  },
  {
   "cell_type": "code",
   "execution_count": 6,
   "metadata": {},
   "outputs": [
    {
     "data": {
      "text/html": [
       "<div>\n",
       "<style scoped>\n",
       "    .dataframe tbody tr th:only-of-type {\n",
       "        vertical-align: middle;\n",
       "    }\n",
       "\n",
       "    .dataframe tbody tr th {\n",
       "        vertical-align: top;\n",
       "    }\n",
       "\n",
       "    .dataframe thead th {\n",
       "        text-align: right;\n",
       "    }\n",
       "</style>\n",
       "<table border=\"1\" class=\"dataframe\">\n",
       "  <thead>\n",
       "    <tr style=\"text-align: right;\">\n",
       "      <th></th>\n",
       "      <th>union</th>\n",
       "      <th>year</th>\n",
       "      <th>title</th>\n",
       "      <th>sentence</th>\n",
       "    </tr>\n",
       "  </thead>\n",
       "  <tbody>\n",
       "    <tr>\n",
       "      <th>0</th>\n",
       "      <td>LO centralt</td>\n",
       "      <td>2010</td>\n",
       "      <td>Arbetare utnyttjas</td>\n",
       "      <td>Arbetare utnyttjas grovt  Arbetare utnyttjas g...</td>\n",
       "    </tr>\n",
       "    <tr>\n",
       "      <th>1</th>\n",
       "      <td>LO centralt</td>\n",
       "      <td>2010</td>\n",
       "      <td>Arbetare utnyttjas</td>\n",
       "      <td>Den bedömningen gör professor Gregor Noll på ...</td>\n",
       "    </tr>\n",
       "    <tr>\n",
       "      <th>2</th>\n",
       "      <td>LO centralt</td>\n",
       "      <td>2010</td>\n",
       "      <td>Arbetare utnyttjas</td>\n",
       "      <td>Han ser två tunga orsaker till att papperslös...</td>\n",
       "    </tr>\n",
       "    <tr>\n",
       "      <th>3</th>\n",
       "      <td>LO centralt</td>\n",
       "      <td>2010</td>\n",
       "      <td>Arbetare utnyttjas</td>\n",
       "      <td>– Det ena är att vi allt mer konkurrerar med ...</td>\n",
       "    </tr>\n",
       "    <tr>\n",
       "      <th>4</th>\n",
       "      <td>LO centralt</td>\n",
       "      <td>2010</td>\n",
       "      <td>Arbetare utnyttjas</td>\n",
       "      <td>Det andra skälet är, enligt Gregor Noll, att ...</td>\n",
       "    </tr>\n",
       "  </tbody>\n",
       "</table>\n",
       "</div>"
      ],
      "text/plain": [
       "         union  year               title  \\\n",
       "0  LO centralt  2010  Arbetare utnyttjas   \n",
       "1  LO centralt  2010  Arbetare utnyttjas   \n",
       "2  LO centralt  2010  Arbetare utnyttjas   \n",
       "3  LO centralt  2010  Arbetare utnyttjas   \n",
       "4  LO centralt  2010  Arbetare utnyttjas   \n",
       "\n",
       "                                            sentence  \n",
       "0  Arbetare utnyttjas grovt  Arbetare utnyttjas g...  \n",
       "1   Den bedömningen gör professor Gregor Noll på ...  \n",
       "2   Han ser två tunga orsaker till att papperslös...  \n",
       "3   – Det ena är att vi allt mer konkurrerar med ...  \n",
       "4   Det andra skälet är, enligt Gregor Noll, att ...  "
      ]
     },
     "execution_count": 6,
     "metadata": {},
     "output_type": "execute_result"
    }
   ],
   "source": [
    "df1.head() ## 15395*4"
   ]
  },
  {
   "cell_type": "markdown",
   "metadata": {},
   "source": [
    "#### Tokenizer and POSer"
   ]
  },
  {
   "cell_type": "code",
   "execution_count": 7,
   "metadata": {},
   "outputs": [],
   "source": [
    "import stanza\n",
    "\n",
    "#stanza.download('sv')"
   ]
  },
  {
   "cell_type": "code",
   "execution_count": 8,
   "metadata": {},
   "outputs": [
    {
     "name": "stderr",
     "output_type": "stream",
     "text": [
      "2021-01-14 22:52:52 INFO: Loading these models for language: sv (Swedish):\n",
      "=========================\n",
      "| Processor | Package   |\n",
      "-------------------------\n",
      "| tokenize  | talbanken |\n",
      "| pos       | talbanken |\n",
      "| lemma     | talbanken |\n",
      "=========================\n",
      "\n",
      "2021-01-14 22:52:52 INFO: Use device: cpu\n",
      "2021-01-14 22:52:52 INFO: Loading: tokenize\n",
      "2021-01-14 22:52:52 INFO: Loading: pos\n",
      "2021-01-14 22:52:53 INFO: Loading: lemma\n",
      "2021-01-14 22:52:53 INFO: Done loading processors!\n"
     ]
    }
   ],
   "source": [
    "nlp=stanza.Pipeline(lang='sv',processors='tokenize,lemma,pos')"
   ]
  },
  {
   "cell_type": "code",
   "execution_count": 9,
   "metadata": {},
   "outputs": [],
   "source": [
    "## Tokenizer\n",
    "def preprocess(doc):\n",
    "    tok=nlp(doc)\n",
    "    re1=[]\n",
    "    re2=[]\n",
    "    stop=['.',':',',','i','att','med','på','en','ett','till','och','-','–','den',\n",
    "          'vara','av','som','men','till','denna','för','in','(',')','eller',\n",
    "          'sån','sedan','•','?','om','!','%','&','--','\\'','*','**','\"','”','“','[avläsT',\n",
    "          '[',']','/','»','«',';','=','+',\n",
    "          '[accessed','[aläst','[avläst','[online]','[sg_popup','[ur', '[vläst',\n",
    "          '‚ä®sverige', '…','‰r','″', '→', '●', '\\uf0b7']\n",
    "    za1=['\"','(',')','“','”','*',':',',','.']\n",
    "    for sentence in tok.sentences:\n",
    "        for word in sentence.words:\n",
    "            #print(word.lemma)\n",
    "            if word.text in stop or word.text.isnumeric(): ## remove stop words and numbers\n",
    "                pass            \n",
    "            elif len(set(list('0123456789')).intersection(set(list(word.text))))>0: \n",
    "                pass            \n",
    "            elif word.text not in za1 and len(set(za1).intersection(set(list(word.text))))>0:\n",
    "                tem=str(word.text)\n",
    "                for za in za1:\n",
    "                    if tem.__contains__(za):\n",
    "                        #print(tem)\n",
    "                        ha=list(tem)\n",
    "                        ha.remove(za)\n",
    "                        tem=''.join(ha)\n",
    "                #print(tem)\n",
    "                if len(tem)>0:\n",
    "                    f=[e.words for e in nlp(tem).sentences]\n",
    "                    if len(f)>0:\n",
    "                        re1.append(f[0][0].lemma)\n",
    "                        re2.append(f[0][0].pos)\n",
    "            elif word.text.endswith('-') or word.text.startswith('-') and word.text!='-' and word.text!='--':\n",
    "                #print(word.text)\n",
    "                mu=word.text.replace('-','')\n",
    "                if len(mu)>0:  ## modified when building em_common_sum\n",
    "                    f=[e.words for e in nlp(mu).sentences]     \n",
    "                    re1.append(f[0][0].lemma)\n",
    "                    re2.append(f[0][0].pos)\n",
    "            else:\n",
    "                re1.append(word.lemma)\n",
    "                re2.append(word.pos)\n",
    "\n",
    "        \n",
    "    return re1,re2\n",
    "\n",
    "def tokenizer(doc):\n",
    "    re,_=preprocess(doc)\n",
    "    return re\n",
    "\n",
    "def pos(doc):\n",
    "    _,re=preprocess(doc)\n",
    "    return re\n",
    "\n",
    "## tokenizer('jag var ingejörer')\n",
    "## ['jag', 'vara', 'ingejör']\n",
    "## tokenizer(df['press'][6])\n",
    "\n",
    "#t=tokenizer(df['press'][368])  ## tokenizer\n",
    "#p=pos(df['press'][368])  ## get POS "
   ]
  },
  {
   "cell_type": "code",
   "execution_count": 10,
   "metadata": {},
   "outputs": [
    {
     "data": {
      "text/plain": [
       "['denna',\n",
       " 'eftersom',\n",
       " 'vissa',\n",
       " 'stanna',\n",
       " 'kvar',\n",
       " 'efter',\n",
       " 'arbetstillstånd',\n",
       " 'löpa',\n",
       " 'ut']"
      ]
     },
     "execution_count": 10,
     "metadata": {},
     "output_type": "execute_result"
    }
   ],
   "source": [
    "tokenizer(df1['sentence'][6])"
   ]
  },
  {
   "cell_type": "markdown",
   "metadata": {},
   "source": [
    "#### Load pre-trained word embeddings (saved state)"
   ]
  },
  {
   "cell_type": "code",
   "execution_count": null,
   "metadata": {},
   "outputs": [],
   "source": [
    "##!!!!!! NO MORE RUN  !!!!!!!!!!!!\n",
    "import gzip\n",
    "\n",
    "em={}\n",
    "with gzip.open('cc.sv.300.vec.gz','rt',encoding=\"utf8\") as source: ## 2,000,000 tokens\n",
    "    header=True\n",
    "    for line in source:\n",
    "        if header==False:\n",
    "            ro=line.split()\n",
    "            #print(ro)\n",
    "            em[ro[0]]=[float(f) for f in ro[1:]]\n",
    "        header=False\n",
    "## em no header, 2,000,000 * 300\n",
    "\n",
    "pickle.dump(em, open( \"./States/code1_em.p\", \"wb\" ) ) ## save state for embeddings"
   ]
  },
  {
   "cell_type": "code",
   "execution_count": null,
   "metadata": {},
   "outputs": [],
   "source": [
    "##!!!!!! NO MORE RUN  !!!!!!!!!!!!\n",
    "vocab_df1=[]  ## build a word list for tokenized press sentences\n",
    "for i in range(15395):\n",
    "    t=tokenizer(df1.iloc[i]['sentence'])\n",
    "    if t not in vocab_df1:\n",
    "        vocab_df1.append(t)\n",
    "vocab_df1=set([e for li in vocab_df1 for e in li])  ## 12633 words\n",
    "pickle.dump(vocab_df1, open( \"./States/code1_vocab_df1.p\", \"wb\" ) ) ## save state for local words in df1 12633 words\n",
    "##vocab_common=[e for e in vocab_df1 if e in vocab1]  ## common words between df1 and vocab1 10372 words\n",
    "##vocab_common.append('unk')\n",
    "##pickle.dump(vocab_common, open( \"./States/code1_vocab_common.p\", \"wb\" ) ) ## save state "
   ]
  },
  {
   "cell_type": "code",
   "execution_count": null,
   "metadata": {},
   "outputs": [],
   "source": [
    "##!!!!!! NO MORE RUN  !!!!!!!!!!!!\n",
    "tik=time.clock()\n",
    "cou=0\n",
    "em_common_sum={} ## sum for words in pretrained embeddings which has the lemma included in common vocab\n",
    "for k,v in em.items():\n",
    "    #tok=tokenizer(str(k))\n",
    "    try:\n",
    "        tok=tokenizer(str(k))\n",
    "        print(cou,':',str(k),tok)\n",
    "        if tok[0] in vocab_common:\n",
    "            print('HAHA')\n",
    "            if tok[0] not in em_common_sum.keys():\n",
    "                em_common_sum[tok]=[v,1]\n",
    "            else:\n",
    "                em_common_sum[tok][0]+=v\n",
    "                em_common_sum[tok][1]+=1\n",
    "    except:\n",
    "        pass\n",
    "    cou+=1\n",
    "tok=time.clock()\n",
    "print((tok-tik)/60)"
   ]
  },
  {
   "cell_type": "code",
   "execution_count": null,
   "metadata": {},
   "outputs": [],
   "source": [
    "##!!!!!! NO MORE RUN  !!!!!!!!!!!!\n",
    "#### bug when summing embeddings, for ex, em_common_sum['vara'][1]=426, len(em_common_sum['vara'][0])=127800\n",
    "em_common_sum_real={}\n",
    "for k,v in em_common_sum.items():\n",
    "    if len(v[0])!=300*v[1]:\n",
    "        print('NO',k)\n",
    "    else:\n",
    "        vec=np.array(v[0])\n",
    "        mat=vec.reshape((v[1],300))\n",
    "        su=np.sum(mat,0)\n",
    "        em_common_sum_real.update({k:[su,v[1]]})"
   ]
  },
  {
   "cell_type": "code",
   "execution_count": null,
   "metadata": {},
   "outputs": [],
   "source": [
    "##!!!!!! NO MORE RUN  !!!!!!!!!!!!\n",
    "pickle.dump(em_common_sum_real, open( \"./States/code1_em_common_sum_real.p\", \"wb\" ) ) ## save state for embeddings\n",
    "em_common={} ## average for words in pretrained embeddings which has the lemma included in common vocab\n",
    "for key,val in em_common_sum_real.items():\n",
    "    em_common[key]=[ e/val[1]  for e in val[0]]\n",
    "\n",
    "pickle.dump(em_common, open( \"./States/code1_em_common.p\", \"wb\" ) ) ## save state for embeddings\n",
    "em_common= pickle.load( open( \"./States/code1_em_common.p\", \"rb\" ) ) ## load common embeddings"
   ]
  },
  {
   "cell_type": "markdown",
   "metadata": {},
   "source": [
    "#### Divide train-validate-test data"
   ]
  },
  {
   "cell_type": "code",
   "execution_count": 11,
   "metadata": {},
   "outputs": [],
   "source": [
    "import random\n",
    "random.seed(1234)\n",
    "train_id=random.sample(range(15395),int(15395*0.7))\n",
    "valid_id=random.sample([e for e in range(15395) if e not in train_id],int(15395*0.15))\n",
    "test_id=[e for e in range(15395) if e not in train_id and e not in valid_id]\n",
    "\n",
    "train=df1.iloc[train_id]\n",
    "valid=df1.iloc[valid_id]\n",
    "test=df1.iloc[test_id]"
   ]
  },
  {
   "cell_type": "markdown",
   "metadata": {},
   "source": [
    "####  convert words and tags to unique integer index"
   ]
  },
  {
   "cell_type": "code",
   "execution_count": null,
   "metadata": {},
   "outputs": [],
   "source": [
    "##!!!!!! NO MORE RUN  !!!!!!!!!!!!\n",
    "# Convert all words and tags in train_data to lists, start with empty lists and use '.append()' \n",
    "# to add one word / tag at a time\n",
    "\n",
    "tags = [] ## unique tags for press documents, 15 tags\n",
    "tags1=[]  ## unique tags for sentences\n",
    "## summarize tags in df\n",
    "cou=0\n",
    "for doc in df1['sentence']:\n",
    "    print(cou)\n",
    "    cou+=1\n",
    "    if len(doc)>0:\n",
    "        p=pos(doc)  ## tags for each document in given dataframe\n",
    "        for tag in p:\n",
    "            if tag not in tags1:\n",
    "                tags1.append(tag)\n",
    "pickle.dump(tags1, open( \"./States/code1_tags1.p\", \"wb\" ) ) ## save state for tags"
   ]
  },
  {
   "cell_type": "code",
   "execution_count": 12,
   "metadata": {},
   "outputs": [],
   "source": [
    "words=list(vocab_df1)\n",
    "words.append('unk')"
   ]
  },
  {
   "cell_type": "code",
   "execution_count": null,
   "metadata": {},
   "outputs": [],
   "source": [
    "##!!!!!! NO MORE RUN  !!!!!!!!!!!!\n",
    "def maxlen(dataset):  ### find the max length  of sentences in given dataset\n",
    "    re=0\n",
    "    for sen in dataset:\n",
    "        tok=tokenizer(sen)\n",
    "        if len(tok)>re:\n",
    "            re=len(tok)\n",
    "    return re\n",
    "maxlen=maxlen(df1['sentence'])  ## maxlen = 74"
   ]
  },
  {
   "cell_type": "code",
   "execution_count": 13,
   "metadata": {},
   "outputs": [],
   "source": [
    "num_tags=len(tags1)  ## number of unique tags"
   ]
  },
  {
   "cell_type": "code",
   "execution_count": 14,
   "metadata": {},
   "outputs": [
    {
     "name": "stdout",
     "output_type": "stream",
     "text": [
      "Number of unique words in df: 12634 (including <unk>)\n",
      "Number of unique tags in df: 16\n"
     ]
    }
   ],
   "source": [
    "# Define a help function to build index from a list of words or tags, each word / tag will have a unique number\n",
    "def build_index(strings, init=[]):\n",
    "    string_to_index = {s: i for i, s in enumerate(init)}\n",
    "    # Loop over strings in 'strings'\n",
    "    for string in strings: \n",
    "        # Check if string exists in variable 'string_to_index', \n",
    "        # if string does not exist, add a new element to 'string_to_index': the current length of 'string_to_index'\n",
    "        if string not in string_to_index.keys():\n",
    "            string_to_index[string]=len(string_to_index)\n",
    "\n",
    "    return string_to_index\n",
    "        \n",
    "\n",
    "# Call the help function you made, to build an index for words (word_to_index), and one index for tags (tag_to_index)\n",
    "word_to_index=build_index(words)\n",
    "tag_to_index=build_index(tags1)\n",
    "\n",
    "# Check number of words and tags\n",
    "num_words = len(word_to_index)\n",
    "num_tags = len(tag_to_index)\n",
    "\n",
    "print(f'Number of unique words in df: {num_words} (including <unk>)')\n",
    "print(f'Number of unique tags in df: {num_tags}')"
   ]
  },
  {
   "cell_type": "code",
   "execution_count": 15,
   "metadata": {},
   "outputs": [],
   "source": [
    "from tensorflow.keras.preprocessing.sequence import pad_sequences\n",
    "from tensorflow.keras.utils import to_categorical\n",
    "import numpy as np\n",
    "\n",
    "# Make a function that converts the tagged sentences, word indices and tag indices to \n",
    "# X and Y, that can be used when training the RNN\n",
    "def encode(dataset, word_to_index, tag_to_index):\n",
    "    \n",
    "    # Start with empty lists that will contain all training examples and corresponding output\n",
    "    X, Y = [], []\n",
    "    cou=0\n",
    "    l=dataset.shape[0]\n",
    "    \n",
    "    # Loop over tagged sentences\n",
    "    for doc in dataset:\n",
    "        if cou%100==0:\n",
    "            print(cou,'/',l)\n",
    "        \n",
    "        t=tokenizer(doc)  ## tokens of doc\n",
    "        p=pos(doc)  ## targets of tokens in doc\n",
    "        \n",
    "        # Make empty lists for current sentence\n",
    "        Xcurrent, Ycurrent = [], []\n",
    "    \n",
    "        # Loop over words and tags in current sentence\n",
    "        for word,tag in zip(t,p):\n",
    "             # Append the index for the current word to Xcurrent, \n",
    "             # if the word does not exist in 'word_to_index', add the index for '<unk>' instead\n",
    "            if word in word_to_index.keys():\n",
    "                Xcurrent.append(word_to_index[word])\n",
    "            else:\n",
    "                Xcurrent.append(word_to_index['unk'])\n",
    "\n",
    "             # Append the index for the current tag to Ycurrent\n",
    "            Ycurrent.append(tag_to_index[tag])    \n",
    "        # Append X with Xcurrent, and Y with Ycurrent\n",
    "        X.append(Xcurrent)\n",
    "        Y.append(Ycurrent)\n",
    "        cou+=1\n",
    "    # Pad the sequences, so that all have the same length\n",
    "    X=pad_sequences(X,maxlen=74)\n",
    "    Y=pad_sequences(Y,maxlen=74)\n",
    "    \n",
    "    # Convert labels to categorical, as you did in the CNN lab\n",
    "    Y=to_categorical(Y,num_tags+1)\n",
    "\n",
    "    return X, Y\n",
    "    \n",
    "    "
   ]
  },
  {
   "cell_type": "code",
   "execution_count": null,
   "metadata": {},
   "outputs": [],
   "source": [
    "##!!!!!! NO MORE RUN  !!!!!!!!!!!!\n",
    "# Use your 'encode' function to create X and Y from train_data, word_to_index, tag_to_index\n",
    "X,Y=encode(train['sentence'], word_to_index, tag_to_index)\n",
    "\n",
    "pickle.dump([X,Y], open( \"./States/code1_train.p\", \"wb\" ) ) ## save state for training dataset"
   ]
  },
  {
   "cell_type": "code",
   "execution_count": 16,
   "metadata": {},
   "outputs": [
    {
     "name": "stdout",
     "output_type": "stream",
     "text": [
      "Shape of Xtrain: (10776, 74)\n",
      "Shape of Ytrain: (10776, 74, 17)\n"
     ]
    }
   ],
   "source": [
    "# Print the shape of X and Y\n",
    "print('Shape of Xtrain: {}'.format(Xtrain.shape)) \n",
    "print('Shape of Ytrain: {}'.format(Ytrain.shape))    \n",
    "\n"
   ]
  },
  {
   "cell_type": "markdown",
   "metadata": {},
   "source": [
    "### 4. Model selection "
   ]
  },
  {
   "cell_type": "markdown",
   "metadata": {},
   "source": [
    "#### Construct model"
   ]
  },
  {
   "cell_type": "code",
   "execution_count": 17,
   "metadata": {},
   "outputs": [
    {
     "name": "stderr",
     "output_type": "stream",
     "text": [
      "Using TensorFlow backend.\n"
     ]
    }
   ],
   "source": [
    "from tensorflow.keras import Sequential\n",
    "# Import necessary layers\n",
    "from tensorflow.keras.layers import Dense, Embedding, LSTM, Bidirectional, TimeDistributed, RepeatVector\n",
    "from keras.losses import categorical_crossentropy as cc\n",
    "from keras.optimizers import Adam\n",
    "\n",
    "embedding_dim = 300\n",
    "hidden_dim = 300\n",
    "#learning_rate=0.01\n",
    "input_length=X.shape[1]\n",
    "\n",
    "# Create model, similar to how it was done in the DNN and CNN labs\n",
    "model = Sequential()\n",
    "\n",
    "# The model should have an embedding layer, a bidirectional LSTM, and a dense softmax layer \n",
    "# (see the network architecture image)\n",
    "\n",
    "model.add(Embedding(num_words, embedding_dim, input_length=input_length, weights=[em_weights0], trainable=True))\n",
    "model.add(Bidirectional(LSTM(hidden_dim,return_sequences=True)))\n",
    "#model.add(RepeatVector(input_length))\n",
    "model.add(TimeDistributed(Dense(num_tags+1, activation='softmax')))"
   ]
  },
  {
   "cell_type": "code",
   "execution_count": null,
   "metadata": {},
   "outputs": [],
   "source": [
    "##!!!!!! NO MORE RUN  !!!!!!!!!!!!\n",
    "em_weights=model.layers[0].get_weights()[0]  ## shape (12634, 300)\n",
    "em_weights0=em_weights\n",
    "for i,v in enumerate(words):\n",
    "    if v in vocab_common:\n",
    "        em_weights0[i]=em_common[v]\n",
    "pickle.dump(em_weights0, open( \"./States/code1_em_weights0.p\", \"wb\" ) ) ## save state for initial embeddings with pretrained vectors"
   ]
  },
  {
   "cell_type": "code",
   "execution_count": null,
   "metadata": {},
   "outputs": [],
   "source": [
    "##!!!!!! NO MORE RUN  !!!!!!!!!!!!\n",
    "#words.index('vara')  ## index 192\n",
    "ouem=model.layers[0](X)\n",
    "sum([e[0]-e[1] for e in zip(ouem[10][70].numpy(),em_common[words[X[10][70]]])])  ## check if em_weights0 has the correct settings so that \n",
    "                                                       ## right dimensions corresponds right word"
   ]
  },
  {
   "cell_type": "code",
   "execution_count": 18,
   "metadata": {},
   "outputs": [
    {
     "name": "stdout",
     "output_type": "stream",
     "text": [
      "Model: \"sequential\"\n",
      "_________________________________________________________________\n",
      "Layer (type)                 Output Shape              Param #   \n",
      "=================================================================\n",
      "embedding (Embedding)        (None, 74, 300)           3790200   \n",
      "_________________________________________________________________\n",
      "bidirectional (Bidirectional (None, 74, 600)           1442400   \n",
      "_________________________________________________________________\n",
      "time_distributed (TimeDistri (None, 74, 17)            10217     \n",
      "=================================================================\n",
      "Total params: 5,242,817\n",
      "Trainable params: 5,242,817\n",
      "Non-trainable params: 0\n",
      "_________________________________________________________________\n"
     ]
    }
   ],
   "source": [
    "# Compile model\n",
    "model.compile('adam', cc, metrics=['accuracy'])\n",
    "\n",
    "# Print a summary of the model\n",
    "model.summary()"
   ]
  },
  {
   "cell_type": "markdown",
   "metadata": {},
   "source": [
    "#### Train"
   ]
  },
  {
   "cell_type": "code",
   "execution_count": null,
   "metadata": {},
   "outputs": [],
   "source": [
    "##!!!!!! NO MORE RUN  !!!!!!!!!!!!\n",
    "# Encode the development (validation data) using the 'encode' function you created before\n",
    "Xval,Yval=encode(valid['sentence'], word_to_index, tag_to_index)\n",
    "pickle.dump([Xval,Yval], open( \"./States/code1_valid.p\", \"wb\" ) ) ## save state for valid dataset\n"
   ]
  },
  {
   "cell_type": "code",
   "execution_count": 19,
   "metadata": {},
   "outputs": [
    {
     "name": "stdout",
     "output_type": "stream",
     "text": [
      "Train on 10776 samples, validate on 2309 samples\n",
      "Epoch 1/10\n",
      "10776/10776 - 259s - loss: 0.2062 - accuracy: 0.9435 - val_loss: 0.0328 - val_accuracy: 0.9903\n",
      "Epoch 2/10\n",
      "10776/10776 - 251s - loss: 0.0223 - accuracy: 0.9933 - val_loss: 0.0234 - val_accuracy: 0.9926\n",
      "Epoch 3/10\n",
      "10776/10776 - 258s - loss: 0.0150 - accuracy: 0.9951 - val_loss: 0.0229 - val_accuracy: 0.9926\n",
      "Epoch 4/10\n",
      "10776/10776 - 257s - loss: 0.0121 - accuracy: 0.9960 - val_loss: 0.0231 - val_accuracy: 0.9928\n",
      "Epoch 5/10\n",
      "10776/10776 - 211s - loss: 0.0095 - accuracy: 0.9968 - val_loss: 0.0251 - val_accuracy: 0.9923\n",
      "Epoch 6/10\n",
      "10776/10776 - 157s - loss: 0.0073 - accuracy: 0.9975 - val_loss: 0.0259 - val_accuracy: 0.9927\n",
      "Epoch 7/10\n",
      "10776/10776 - 158s - loss: 0.0056 - accuracy: 0.9982 - val_loss: 0.0278 - val_accuracy: 0.9922\n",
      "Epoch 8/10\n",
      "10776/10776 - 158s - loss: 0.0041 - accuracy: 0.9987 - val_loss: 0.0286 - val_accuracy: 0.9922\n",
      "Epoch 9/10\n",
      "10776/10776 - 157s - loss: 0.0030 - accuracy: 0.9991 - val_loss: 0.0338 - val_accuracy: 0.9919\n",
      "Epoch 10/10\n",
      "10776/10776 - 157s - loss: 0.0022 - accuracy: 0.9994 - val_loss: 0.0349 - val_accuracy: 0.9918\n"
     ]
    }
   ],
   "source": [
    "## Train \n",
    "# Train the model and save the history, provide validation data\n",
    "batch_size = 32\n",
    "epochs = 10\n",
    "history = model.fit(Xtrain,Ytrain,batch_size=batch_size,epochs=epochs,verbose=2,validation_data=(Xval,Yval))"
   ]
  },
  {
   "cell_type": "markdown",
   "metadata": {},
   "source": [
    "#### Validate"
   ]
  },
  {
   "cell_type": "code",
   "execution_count": 20,
   "metadata": {},
   "outputs": [],
   "source": [
    "## validate\n",
    "# Lets define a help function for plotting the training results\n",
    "\n",
    "\n",
    "def plot_results(history):\n",
    "    \n",
    "    val_loss = history.history['val_loss']\n",
    "    acc = history.history['accuracy']\n",
    "    loss = history.history['loss']\n",
    "    val_acc = history.history['val_accuracy']\n",
    "    \n",
    "    plt.figure(figsize=(10,4))\n",
    "    plt.xlabel('Epochs')\n",
    "    plt.ylabel('Loss')\n",
    "    plt.plot(loss)\n",
    "    plt.plot(val_loss)\n",
    "    plt.legend(['Training','Validation'])\n",
    "\n",
    "    plt.figure(figsize=(10,4))\n",
    "    plt.xlabel('Epochs')\n",
    "    plt.ylabel('Accuracy')\n",
    "    plt.plot(acc)\n",
    "    plt.plot(val_acc)\n",
    "    plt.legend(['Training','Validation'])\n",
    "\n",
    "    plt.show()"
   ]
  },
  {
   "cell_type": "code",
   "execution_count": 21,
   "metadata": {},
   "outputs": [
    {
     "data": {
      "image/png": "[encoded data removed]",
      "text/plain": [
       "<Figure size 720x288 with 1 Axes>"
      ]
     },
     "metadata": {
      "needs_background": "light"
     },
     "output_type": "display_data"
    },
    {
     "data": {
      "image/png": "[encoded data removed]",
      "text/plain": [
       "<Figure size 720x288 with 1 Axes>"
      ]
     },
     "metadata": {
      "needs_background": "light"
     },
     "output_type": "display_data"
    }
   ],
   "source": [
    "plot_results(history)  ##  Choose epochs=3"
   ]
  },
  {
   "cell_type": "markdown",
   "metadata": {},
   "source": [
    "#### Evaluate"
   ]
  },
  {
   "cell_type": "code",
   "execution_count": null,
   "metadata": {},
   "outputs": [],
   "source": [
    "##!!!!!! NO MORE RUN  !!!!!!!!!!!!\n",
    "# Encode the test_data using the 'encode' function you created before\n",
    "Xtest,Ytest=encode(test['sentence'], word_to_index, tag_to_index)\n",
    "pickle.dump([Xtest,Ytest], open( \"./States/code1_test.p\", \"wb\" ) ) ## save state for test dataset\n"
   ]
  },
  {
   "cell_type": "code",
   "execution_count": 22,
   "metadata": {},
   "outputs": [
    {
     "name": "stdout",
     "output_type": "stream",
     "text": [
      "Train on 10776 samples\n",
      "Epoch 1/3\n",
      "10776/10776 - 147s - loss: 0.2131 - accuracy: 0.9420\n",
      "Epoch 2/3\n",
      "10776/10776 - 144s - loss: 0.0228 - accuracy: 0.9931\n",
      "Epoch 3/3\n",
      "10776/10776 - 144s - loss: 0.0151 - accuracy: 0.9950\n",
      "2310/2310 [==============================] - 11s 5ms/sample - loss: 0.0232 - accuracy: 0.9925\n",
      "Test loss: 0.0232\n",
      "Test accuracy: 0.9925\n"
     ]
    }
   ],
   "source": [
    "## evaluate on test data\n",
    "model = Sequential()\n",
    "model.add(Embedding(num_words, embedding_dim, input_length=input_length, weights=[em_weights0], trainable=True))\n",
    "model.add(Bidirectional(LSTM(hidden_dim,return_sequences=True)))\n",
    "model.add(TimeDistributed(Dense(num_tags+1, activation='softmax')))\n",
    "model.compile('adam', cc, metrics=['accuracy'])\n",
    "\n",
    "model.fit(Xtrain,Ytrain,batch_size=batch_size,epochs=3,verbose=2)\n",
    "\n",
    "score = model.evaluate(Xtest,Ytest,batch_size=batch_size)\n",
    "print('Test loss: %.4f' % score[0])\n",
    "print('Test accuracy: %.4f' % score[1])"
   ]
  },
  {
   "cell_type": "markdown",
   "metadata": {},
   "source": [
    "### 5. Retrain with whole dataset / Update Embeddings"
   ]
  },
  {
   "cell_type": "markdown",
   "metadata": {},
   "source": [
    "#### Train by years"
   ]
  },
  {
   "cell_type": "code",
   "execution_count": 23,
   "metadata": {},
   "outputs": [],
   "source": [
    "[X,Y]=pickle.load(open( \"./States/code1_all.p\", \"rb\" ) )  ## load whole training dataset\n",
    "def train(par,li): \n",
    "    embedding_dim = 300\n",
    "    hidden_dim = 300\n",
    "    input_length=74\n",
    "    \n",
    "    for ele in li:\n",
    "        print(par,':',ele)\n",
    "        \n",
    "        ## construct model\n",
    "        model = Sequential()\n",
    "        # The model should have an embedding layer, a bidirectional LSTM, and a dense softmax layer \n",
    "        model.add(Embedding(num_words, embedding_dim, input_length=input_length, weights=[em_weights0], trainable=True))\n",
    "        model.add(Bidirectional(LSTM(hidden_dim,return_sequences=True)))\n",
    "        #model.add(RepeatVector(input_length))\n",
    "        model.add(TimeDistributed(Dense(num_tags+1, activation='softmax')))\n",
    "        # Compile model\n",
    "        model.compile('adam', cc, metrics=['accuracy'])\n",
    "\n",
    "        if par=='year':\n",
    "            ind=(df1[par]==(ele-1)) | (df1[par]==ele)  |  (df1[par]==(ele+1))     ## filter index \n",
    "        if par=='union':\n",
    "            ind=df1[par]==ele   ## filter index   \n",
    "        \n",
    "        x,y=X[ind],Y[ind]   ## extract dataset from \"code1_all\" which is already encoded and saved       \n",
    "        model.fit(x,y,batch_size=batch_size,epochs=3,verbose=2)\n",
    "        em_weights_trained=model.layers[0].get_weights()[0] \n",
    "        pickle.dump(em_weights_trained, open( (\"./States/code1_em_weights_\"+str(ele)+\".p\"), \"wb\" ) ) ## save weights   "
   ]
  },
  {
   "cell_type": "code",
   "execution_count": 24,
   "metadata": {},
   "outputs": [
    {
     "name": "stdout",
     "output_type": "stream",
     "text": [
      "year : 2011\n",
      "Train on 1745 samples\n",
      "Epoch 1/3\n",
      "1745/1745 - 25s - loss: 0.5647 - accuracy: 0.8660\n",
      "Epoch 2/3\n",
      "1745/1745 - 23s - loss: 0.3296 - accuracy: 0.8919\n",
      "Epoch 3/3\n",
      "1745/1745 - 23s - loss: 0.2257 - accuracy: 0.9315\n",
      "year : 2012\n",
      "Train on 2374 samples\n",
      "Epoch 1/3\n",
      "2374/2374 - 33s - loss: 0.4989 - accuracy: 0.8717\n",
      "Epoch 2/3\n",
      "2374/2374 - 32s - loss: 0.2652 - accuracy: 0.9163\n",
      "Epoch 3/3\n",
      "2374/2374 - 32s - loss: 0.1069 - accuracy: 0.9731\n",
      "year : 2013\n",
      "Train on 2703 samples\n",
      "Epoch 1/3\n",
      "2703/2703 - 38s - loss: 0.4836 - accuracy: 0.8730\n",
      "Epoch 2/3\n",
      "2703/2703 - 37s - loss: 0.2466 - accuracy: 0.9238\n",
      "Epoch 3/3\n",
      "2703/2703 - 37s - loss: 0.0892 - accuracy: 0.9791\n",
      "year : 2014\n",
      "Train on 3748 samples\n",
      "Epoch 1/3\n",
      "3748/3748 - 52s - loss: 0.4198 - accuracy: 0.8855\n",
      "Epoch 2/3\n",
      "3748/3748 - 50s - loss: 0.1194 - accuracy: 0.9675\n",
      "Epoch 3/3\n",
      "3748/3748 - 50s - loss: 0.0299 - accuracy: 0.9921\n",
      "year : 2015\n",
      "Train on 4569 samples\n",
      "Epoch 1/3\n",
      "4569/4569 - 68s - loss: 0.3865 - accuracy: 0.8937\n",
      "Epoch 2/3\n",
      "4569/4569 - 67s - loss: 0.0851 - accuracy: 0.9781\n",
      "Epoch 3/3\n",
      "4569/4569 - 67s - loss: 0.0253 - accuracy: 0.9930\n",
      "year : 2016\n",
      "Train on 6243 samples\n",
      "Epoch 1/3\n",
      "6243/6243 - 92s - loss: 0.3436 - accuracy: 0.9045\n",
      "Epoch 2/3\n",
      "6243/6243 - 91s - loss: 0.0498 - accuracy: 0.9874\n",
      "Epoch 3/3\n",
      "6243/6243 - 91s - loss: 0.0206 - accuracy: 0.9939\n",
      "year : 2017\n",
      "Train on 7344 samples\n",
      "Epoch 1/3\n",
      "7344/7344 - 114s - loss: 0.2882 - accuracy: 0.9215\n",
      "Epoch 2/3\n",
      "7344/7344 - 113s - loss: 0.0340 - accuracy: 0.9908\n",
      "Epoch 3/3\n",
      "7344/7344 - 113s - loss: 0.0174 - accuracy: 0.9947\n",
      "year : 2018\n",
      "Train on 6925 samples\n",
      "Epoch 1/3\n",
      "6925/6925 - 106s - loss: 0.3103 - accuracy: 0.9154\n",
      "Epoch 2/3\n",
      "6925/6925 - 104s - loss: 0.0389 - accuracy: 0.9899\n",
      "Epoch 3/3\n",
      "6925/6925 - 105s - loss: 0.0186 - accuracy: 0.9945\n",
      "year : 2019\n",
      "Train on 5179 samples\n",
      "Epoch 1/3\n",
      "5179/5179 - 80s - loss: 0.3698 - accuracy: 0.8978\n",
      "Epoch 2/3\n",
      "5179/5179 - 78s - loss: 0.0681 - accuracy: 0.9829\n",
      "Epoch 3/3\n",
      "5179/5179 - 78s - loss: 0.0225 - accuracy: 0.9936\n"
     ]
    }
   ],
   "source": [
    "years=[e+2011 for e in list(range(9))]   ### year 2011-2019\n",
    "train('year',years)"
   ]
  },
  {
   "cell_type": "markdown",
   "metadata": {},
   "source": [
    "#### Train by unions"
   ]
  },
  {
   "cell_type": "code",
   "execution_count": 33,
   "metadata": {},
   "outputs": [
    {
     "name": "stdout",
     "output_type": "stream",
     "text": [
      "union : Målarna\n",
      "Train on 362 samples\n",
      "Epoch 1/3\n",
      "362/362 - 7s - loss: 1.2883 - accuracy: 0.8019\n",
      "Epoch 2/3\n",
      "362/362 - 6s - loss: 0.4535 - accuracy: 0.8651\n",
      "Epoch 3/3\n",
      "362/362 - 6s - loss: 0.3983 - accuracy: 0.8790\n",
      "union : Livsmedelsarbetarförbundet\n",
      "Train on 1126 samples\n",
      "Epoch 1/3\n",
      "1126/1126 - 19s - loss: 0.6604 - accuracy: 0.8569\n",
      "Epoch 2/3\n",
      "1126/1126 - 18s - loss: 0.3546 - accuracy: 0.8822\n",
      "Epoch 3/3\n",
      "1126/1126 - 17s - loss: 0.3010 - accuracy: 0.9051\n",
      "union : Kommunalarbetarförbundet\n",
      "Train on 2097 samples\n",
      "Epoch 1/3\n",
      "2097/2097 - 35s - loss: 0.5410 - accuracy: 0.8642\n",
      "Epoch 2/3\n",
      "2097/2097 - 33s - loss: 0.3097 - accuracy: 0.9006\n",
      "Epoch 3/3\n",
      "2097/2097 - 33s - loss: 0.1602 - accuracy: 0.9569\n",
      "union : Transportarbetarförbundet\n",
      "Train on 1713 samples\n",
      "Epoch 1/3\n",
      "1713/1713 - 28s - loss: 0.5316 - accuracy: 0.8777\n",
      "Epoch 2/3\n",
      "1713/1713 - 26s - loss: 0.2985 - accuracy: 0.9008\n",
      "Epoch 3/3\n",
      "1713/1713 - 26s - loss: 0.2135 - accuracy: 0.9352\n",
      "union : Fastighetsansälldas förbund\n",
      "Train on 959 samples\n",
      "Epoch 1/3\n",
      "959/959 - 16s - loss: 0.7271 - accuracy: 0.8492\n",
      "Epoch 2/3\n",
      "959/959 - 14s - loss: 0.3719 - accuracy: 0.8814\n",
      "Epoch 3/3\n",
      "959/959 - 14s - loss: 0.3406 - accuracy: 0.8861\n",
      "union : IF Metall\n",
      "Train on 735 samples\n",
      "Epoch 1/3\n",
      "735/735 - 14s - loss: 0.7982 - accuracy: 0.8476\n",
      "Epoch 2/3\n",
      "735/735 - 12s - loss: 0.3536 - accuracy: 0.8927\n",
      "Epoch 3/3\n",
      "735/735 - 12s - loss: 0.3303 - accuracy: 0.8931\n",
      "union : Seko\n",
      "Train on 393 samples\n",
      "Epoch 1/3\n",
      "393/393 - 8s - loss: 1.2083 - accuracy: 0.8078\n",
      "Epoch 2/3\n",
      "393/393 - 6s - loss: 0.4508 - accuracy: 0.8654\n",
      "Epoch 3/3\n",
      "393/393 - 6s - loss: 0.3993 - accuracy: 0.8777\n",
      "union : Hotell- o resturangfacket\n",
      "Train on 1370 samples\n",
      "Epoch 1/3\n",
      "1370/1370 - 25s - loss: 0.5951 - accuracy: 0.8709\n",
      "Epoch 2/3\n",
      "1370/1370 - 23s - loss: 0.3173 - accuracy: 0.8958\n",
      "Epoch 3/3\n",
      "1370/1370 - 23s - loss: 0.2666 - accuracy: 0.9174\n",
      "union : Handelsanställdas förbund\n",
      "Train on 772 samples\n",
      "Epoch 1/3\n",
      "772/772 - 15s - loss: 0.7786 - accuracy: 0.8542\n",
      "Epoch 2/3\n",
      "772/772 - 13s - loss: 0.3410 - accuracy: 0.8955\n",
      "Epoch 3/3\n",
      "772/772 - 13s - loss: 0.3190 - accuracy: 0.8956\n",
      "union : LO centralt\n",
      "Train on 3834 samples\n",
      "Epoch 1/3\n",
      "3834/3834 - 65s - loss: 0.4271 - accuracy: 0.8816\n",
      "Epoch 2/3\n",
      "3834/3834 - 65s - loss: 0.1220 - accuracy: 0.9676\n",
      "Epoch 3/3\n",
      "3834/3834 - 64s - loss: 0.0322 - accuracy: 0.9916\n",
      "union : Elektrikerförbundet\n",
      "Train on 654 samples\n",
      "Epoch 1/3\n",
      "654/654 - 13s - loss: 0.8898 - accuracy: 0.8347\n",
      "Epoch 2/3\n",
      "654/654 - 11s - loss: 0.3872 - accuracy: 0.8822\n",
      "Epoch 3/3\n",
      "654/654 - 11s - loss: 0.3598 - accuracy: 0.8823\n",
      "union : Byggnadsarbetarförbundet\n",
      "Train on 1380 samples\n",
      "Epoch 1/3\n",
      "1380/1380 - 24s - loss: 0.6190 - accuracy: 0.8574\n",
      "Epoch 2/3\n",
      "1380/1380 - 23s - loss: 0.3534 - accuracy: 0.8826\n",
      "Epoch 3/3\n",
      "1380/1380 - 23s - loss: 0.2774 - accuracy: 0.9137\n"
     ]
    }
   ],
   "source": [
    "unions=list(set(list(df1['union'])))   ##  all unions\n",
    "train('union',unions)"
   ]
  },
  {
   "cell_type": "markdown",
   "metadata": {},
   "source": [
    "### 6. Analysis"
   ]
  },
  {
   "cell_type": "code",
   "execution_count": 25,
   "metadata": {},
   "outputs": [],
   "source": [
    "nwords=['arbetsmarknad','jobb','chans','tjänst','yrke',\n",
    "        'arbetsförmedling','arbetstagare','lön','intervju','anställning']  ## neutral words 10\n",
    "swords=['svensk','medborgare','inrikes','Tomas','Björn',\n",
    "        'Lena','anna','Stefan','Karin','Sara',\n",
    "        'Malin','Andreas','Jan','Johansson','Maria',\n",
    "        'Erik','Sven','Peter','Carl','Mikael',\n",
    "        'Elisabeth','Eva','Kristina','Birgitta']  ## svensk group 25\n",
    "iwords=['invandrare','flykting','migration','visum',\n",
    "        'asyl','utomlands','arbetstillstånd','migrationsverket','asylsökande',\n",
    "        'arbetskraftsinvandring']  ## immigrants group 10"
   ]
  },
  {
   "cell_type": "code",
   "execution_count": 26,
   "metadata": {},
   "outputs": [
    {
     "data": {
      "text/plain": [
       "[]"
      ]
     },
     "execution_count": 26,
     "metadata": {},
     "output_type": "execute_result"
    }
   ],
   "source": [
    "[e for e in iwords if e not in vocab_common]  ## make sure words from vocab_common"
   ]
  },
  {
   "cell_type": "code",
   "execution_count": 27,
   "metadata": {},
   "outputs": [
    {
     "data": {
      "text/plain": [
       "True"
      ]
     },
     "execution_count": 27,
     "metadata": {},
     "output_type": "execute_result"
    }
   ],
   "source": [
    "'Lena' in vocab_common"
   ]
  },
  {
   "cell_type": "code",
   "execution_count": 28,
   "metadata": {},
   "outputs": [],
   "source": [
    "def word2vec(weight,word):  ## convert word into vectors\n",
    "    ind=words.index(word)\n",
    "    vec=weight[ind]\n",
    "    return vec\n",
    "\n",
    "def dis(weight,vec,word):  ##  L2 norm distance between word a and b\n",
    "    return np.sqrt(np.sum(np.square(vec-word2vec(weight,word))))\n",
    "\n",
    "def avg(weight,group):  ## calculate average vectors for word groups\n",
    "    re=np.array(np.zeros(300))\n",
    "    for word in group:\n",
    "        re+=word2vec(weight,word)\n",
    "    return re/len(group)\n",
    "\n",
    "def rnd(weight,nwords,swords,iwords):  ## relative norm distance\n",
    "    svec=avg(weight,swords)\n",
    "    ivec=avg(weight,iwords)\n",
    "    re=0\n",
    "    for word in nwords:\n",
    "        re+=dis(weight,svec,word)-dis(weight,ivec,word) ##  dis(swords)-dis(iwords)\n",
    "    return re/len(nwords)"
   ]
  },
  {
   "cell_type": "markdown",
   "metadata": {},
   "source": [
    "#### By years"
   ]
  },
  {
   "cell_type": "code",
   "execution_count": 29,
   "metadata": {},
   "outputs": [],
   "source": [
    "em_weights_2011=pickle.load(open( (\"./States/code1_em_weights_2011.p\"), \"rb\" ) )\n",
    "em_weights_2012=pickle.load(open( (\"./States/code1_em_weights_2012.p\"), \"rb\" ) )\n",
    "em_weights_2013=pickle.load(open( (\"./States/code1_em_weights_2013.p\"), \"rb\" ) )\n",
    "em_weights_2014=pickle.load(open( (\"./States/code1_em_weights_2014.p\"), \"rb\" ) )\n",
    "em_weights_2015=pickle.load(open( (\"./States/code1_em_weights_2015.p\"), \"rb\" ) )\n",
    "em_weights_2016=pickle.load(open( (\"./States/code1_em_weights_2016.p\"), \"rb\" ) )\n",
    "em_weights_2017=pickle.load(open( (\"./States/code1_em_weights_2017.p\"), \"rb\" ) )\n",
    "em_weights_2018=pickle.load(open( (\"./States/code1_em_weights_2018.p\"), \"rb\" ) )\n",
    "em_weights_2019=pickle.load(open( (\"./States/code1_em_weights_2019.p\"), \"rb\" ) )"
   ]
  },
  {
   "cell_type": "code",
   "execution_count": 30,
   "metadata": {},
   "outputs": [],
   "source": [
    "years=[e+2011 for e in list(range(9))]  \n",
    "rnd_years=[]\n",
    "for i in years:\n",
    "    rnd_years.append(rnd(eval('em_weights_'+str(i)),nwords,swords,iwords))"
   ]
  },
  {
   "cell_type": "code",
   "execution_count": 31,
   "metadata": {},
   "outputs": [
    {
     "data": {
      "image/png": "[encoded data removed]",
      "text/plain": [
       "<Figure size 432x288 with 1 Axes>"
      ]
     },
     "metadata": {
      "needs_background": "light"
     },
     "output_type": "display_data"
    }
   ],
   "source": [
    "plt.title('Relative Norm Distance (RND) through Years')\n",
    "plt.xlabel('year')\n",
    "plt.ylabel('RND')\n",
    "plt.plot(years,rnd_years);"
   ]
  },
  {
   "cell_type": "code",
   "execution_count": 32,
   "metadata": {},
   "outputs": [
    {
     "data": {
      "text/plain": [
       "[-0.008106756481424327,\n",
       " -0.015624323511668875,\n",
       " -0.023603638308422936,\n",
       " -0.04092741236309149,\n",
       " -0.03787092920182556,\n",
       " -0.046844558017092,\n",
       " -0.031785570642878846,\n",
       " -0.043719154750079266,\n",
       " -0.011410642172627305]"
      ]
     },
     "execution_count": 32,
     "metadata": {},
     "output_type": "execute_result"
    }
   ],
   "source": [
    "rnd_years"
   ]
  },
  {
   "cell_type": "markdown",
   "metadata": {},
   "source": [
    "#### By unions"
   ]
  },
  {
   "cell_type": "markdown",
   "metadata": {},
   "source": [
    "Trade Unions (2010-2020, förbundspress):\n",
    "    * A, LO centralt\n",
    "    * HR, Hotell- o resturangfacket;\n",
    "    * H, Handelsanställdas förbund\n",
    "    * L, Livsmedelsarbetarförbundet\n",
    "    * K, Kommunalarbetarförbundet\n",
    "    * DA,IF Metall\n",
    "    * FF,Fastighetsansälldas förbund\n",
    "    * BA,Byggnadsarbetarförbundet\n",
    "    * E, Elektrikerförbundet\n",
    "    * M, Målarna\n",
    "    * S, Seko\n",
    "    * T, Transportarbetarförbundet"
   ]
  },
  {
   "cell_type": "code",
   "execution_count": 34,
   "metadata": {},
   "outputs": [],
   "source": [
    "em_weights_A=pickle.load(open( (\"./States/code1_em_weights_LO centralt.p\"), \"rb\" ) )\n",
    "em_weights_S=pickle.load(open( (\"./States/code1_em_weights_Seko.p\"), \"rb\" ) )\n",
    "em_weights_DA=pickle.load(open( (\"./States/code1_em_weights_IF Metall.p\"), \"rb\" ) )\n",
    "em_weights_T=pickle.load(open( (\"./States/code1_em_weights_Transportarbetarförbundet.p\"), \"rb\" ) )\n",
    "em_weights_FF=pickle.load(open( (\"./States/code1_em_weights_Fastighetsansälldas förbund.p\"), \"rb\" ) )\n",
    "em_weights_HR=pickle.load(open( (\"./States/code1_em_weights_Hotell- o resturangfacket.p\"), \"rb\" ) )\n",
    "em_weights_K=pickle.load(open( (\"./States/code1_em_weights_Kommunalarbetarförbundet.p\"), \"rb\" ) )\n",
    "em_weights_L=pickle.load(open( (\"./States/code1_em_weights_Livsmedelsarbetarförbundet.p\"), \"rb\" ) )\n",
    "em_weights_H=pickle.load(open( (\"./States/code1_em_weights_Handelsanställdas förbund.p\"), \"rb\" ) )\n",
    "em_weights_BA=pickle.load(open( (\"./States/code1_em_weights_Byggnadsarbetarförbundet.p\"), \"rb\" ) )\n",
    "em_weights_E=pickle.load(open( (\"./States/code1_em_weights_Elektrikerförbundet.p\"), \"rb\" ) )\n",
    "em_weights_M=pickle.load(open( (\"./States/code1_em_weights_Målarna.p\"), \"rb\" ) )"
   ]
  },
  {
   "cell_type": "code",
   "execution_count": 35,
   "metadata": {},
   "outputs": [],
   "source": [
    "unions=['A','S','DA','T','FF','HR','K','L','H','BA','E','M']\n",
    "rnd_unions=[]\n",
    "for i in unions:\n",
    "    rnd_unions.append(rnd(eval('em_weights_'+str(i)),nwords,swords,iwords))"
   ]
  },
  {
   "cell_type": "code",
   "execution_count": 36,
   "metadata": {},
   "outputs": [
    {
     "data": {
      "image/png": "[encoded data removed]",
      "text/plain": [
       "<Figure size 432x288 with 1 Axes>"
      ]
     },
     "metadata": {
      "needs_background": "light"
     },
     "output_type": "display_data"
    }
   ],
   "source": [
    "plt.title('Relative Norm Distance (RND) among Unions')\n",
    "plt.xlabel('union')\n",
    "plt.ylabel('RND')\n",
    "plt.plot(unions,rnd_unions);"
   ]
  },
  {
   "cell_type": "code",
   "execution_count": 37,
   "metadata": {},
   "outputs": [
    {
     "data": {
      "text/plain": [
       "[-0.06325732452628795,\n",
       " -0.006916952908607684,\n",
       " -0.0045262011947210775,\n",
       " -0.018914005090076146,\n",
       " -0.0057952592597989685,\n",
       " -0.007921799299650983,\n",
       " -0.004944836348501308,\n",
       " -0.006291385531424018,\n",
       " -0.004508894326484716,\n",
       " -0.007473745413192312,\n",
       " -0.005725089419912191,\n",
       " -0.005526497758183821]"
      ]
     },
     "execution_count": 37,
     "metadata": {},
     "output_type": "execute_result"
    }
   ],
   "source": [
    "rnd_unions"
   ]
  },
  {
   "cell_type": "markdown",
   "metadata": {},
   "source": [
    "### 7. Test "
   ]
  },
  {
   "cell_type": "code",
   "execution_count": null,
   "metadata": {},
   "outputs": [],
   "source": []
  },
  {
   "cell_type": "code",
   "execution_count": null,
   "metadata": {},
   "outputs": [],
   "source": []
  },
  {
   "cell_type": "markdown",
   "metadata": {},
   "source": [
    " "
   ]
  },
  {
   "cell_type": "code",
   "execution_count": null,
   "metadata": {},
   "outputs": [],
   "source": []
  },
  {
   "cell_type": "code",
   "execution_count": 13,
   "metadata": {},
   "outputs": [],
   "source": []
  },
  {
   "cell_type": "code",
   "execution_count": 4,
   "metadata": {},
   "outputs": [],
   "source": []
  },
  {
   "cell_type": "code",
   "execution_count": 39,
   "metadata": {},
   "outputs": [],
   "source": []
  },
  {
   "cell_type": "code",
   "execution_count": null,
   "metadata": {},
   "outputs": [],
   "source": []
  },
  {
   "cell_type": "code",
   "execution_count": null,
   "metadata": {},
   "outputs": [],
   "source": []
  }
 ],
 "metadata": {
  "kernelspec": {
   "display_name": "Python 3",
   "language": "python",
   "name": "python3"
  },
  "language_info": {
   "codemirror_mode": {
    "name": "ipython",
    "version": 3
   },
   "file_extension": ".py",
   "mimetype": "text/x-python",
   "name": "python",
   "nbconvert_exporter": "python",
   "pygments_lexer": "ipython3",
   "version": "3.7.4"
  }
 },
 "nbformat": 4,
 "nbformat_minor": 4
}
