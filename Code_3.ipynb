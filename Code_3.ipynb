{
 "cells": [
  {
   "cell_type": "code",
   "execution_count": 1,
   "metadata": {},
   "outputs": [],
   "source": [
    "from docx2python import docx2python\n",
    "import numpy as np\n",
    "import os\n",
    "import json\n",
    "import pandas as pd\n",
    "import pickle\n",
    "import time\n",
    "#import tensorflow as tf\n",
    "import matplotlib.pyplot as plt\n",
    "from gensim.models.word2vec import Word2Vec\n",
    "from scipy import stats\n",
    "\n",
    "#df, data frame of \"sweunions.json\"\n",
    "#em, pre-trained embedding dictionary, 2,000,000 * 300"
   ]
  },
  {
   "cell_type": "markdown",
   "metadata": {},
   "source": [
    "Trade Unions (2010-2020, förbundspress):\n",
    "    * A, LO centralt\n",
    "    * HR, Hotell- o resturangfacket;\n",
    "    * H, Handelsanställdas förbund\n",
    "    * L, Livsmedelsarbetarförbundet\n",
    "    * K, Kommunalarbetarförbundet\n",
    "    * DA,IF Metall\n",
    "    * FF,Fastighetsansälldas förbund\n",
    "    * BA,Byggnadsarbetarförbundet\n",
    "    * E, Elektrikerförbundet\n",
    "    * M, Målarna\n",
    "    * S, Seko\n",
    "    * T, Transportarbetarförbundet"
   ]
  },
  {
   "cell_type": "markdown",
   "metadata": {},
   "source": [
    "### 1. Data Preparation"
   ]
  },
  {
   "cell_type": "markdown",
   "metadata": {},
   "source": [
    "#### Load Session/States"
   ]
  },
  {
   "cell_type": "code",
   "execution_count": 2,
   "metadata": {},
   "outputs": [],
   "source": [
    "vocab_df1=pickle.load(open( \"./States/code1_vocab_df1.p\", \"rb\" ) ) ## load state for local words in df1 12633 words, exclusive 'unk'\n",
    "\n",
    "#sen=[tokenizer(s) for s in df1['sentence']]\n",
    "#pickle.dump(sen, open( (\"./States/code3_sen.p\"), \"wb\" ) ) ## save input sentences \n",
    "sen=pickle.load(open( (\"./States/code3_sen.p\"), \"rb\" ))"
   ]
  },
  {
   "cell_type": "code",
   "execution_count": 3,
   "metadata": {},
   "outputs": [
    {
     "data": {
      "text/plain": [
       "False"
      ]
     },
     "execution_count": 3,
     "metadata": {},
     "output_type": "execute_result"
    }
   ],
   "source": [
    "#len(vocab_df1)\n",
    "'unk' in vocab_common"
   ]
  },
  {
   "cell_type": "markdown",
   "metadata": {},
   "source": [
    "#### Read press conference documents"
   ]
  },
  {
   "cell_type": "code",
   "execution_count": 4,
   "metadata": {},
   "outputs": [],
   "source": [
    "with open('sweunions_sentences.json','r',encoding='utf-8') as source: #C:/Users/A550240/Desktop/LIU/3.2_TextMining/Project/1.SelectedData/\n",
    "    df1 = pd.read_json(source) ## each sentence"
   ]
  },
  {
   "cell_type": "code",
   "execution_count": 6,
   "metadata": {},
   "outputs": [
    {
     "data": {
      "text/html": [
       "<div>\n",
       "<style scoped>\n",
       "    .dataframe tbody tr th:only-of-type {\n",
       "        vertical-align: middle;\n",
       "    }\n",
       "\n",
       "    .dataframe tbody tr th {\n",
       "        vertical-align: top;\n",
       "    }\n",
       "\n",
       "    .dataframe thead th {\n",
       "        text-align: right;\n",
       "    }\n",
       "</style>\n",
       "<table border=\"1\" class=\"dataframe\">\n",
       "  <thead>\n",
       "    <tr style=\"text-align: right;\">\n",
       "      <th></th>\n",
       "      <th>union</th>\n",
       "      <th>year</th>\n",
       "      <th>title</th>\n",
       "      <th>sentence</th>\n",
       "    </tr>\n",
       "  </thead>\n",
       "  <tbody>\n",
       "    <tr>\n",
       "      <th>0</th>\n",
       "      <td>LO centralt</td>\n",
       "      <td>2010</td>\n",
       "      <td>Arbetare utnyttjas</td>\n",
       "      <td>Arbetare utnyttjas grovt  Arbetare utnyttjas g...</td>\n",
       "    </tr>\n",
       "    <tr>\n",
       "      <th>1</th>\n",
       "      <td>LO centralt</td>\n",
       "      <td>2010</td>\n",
       "      <td>Arbetare utnyttjas</td>\n",
       "      <td>Den bedömningen gör professor Gregor Noll på ...</td>\n",
       "    </tr>\n",
       "    <tr>\n",
       "      <th>2</th>\n",
       "      <td>LO centralt</td>\n",
       "      <td>2010</td>\n",
       "      <td>Arbetare utnyttjas</td>\n",
       "      <td>Han ser två tunga orsaker till att papperslös...</td>\n",
       "    </tr>\n",
       "    <tr>\n",
       "      <th>3</th>\n",
       "      <td>LO centralt</td>\n",
       "      <td>2010</td>\n",
       "      <td>Arbetare utnyttjas</td>\n",
       "      <td>– Det ena är att vi allt mer konkurrerar med ...</td>\n",
       "    </tr>\n",
       "    <tr>\n",
       "      <th>4</th>\n",
       "      <td>LO centralt</td>\n",
       "      <td>2010</td>\n",
       "      <td>Arbetare utnyttjas</td>\n",
       "      <td>Det andra skälet är, enligt Gregor Noll, att ...</td>\n",
       "    </tr>\n",
       "  </tbody>\n",
       "</table>\n",
       "</div>"
      ],
      "text/plain": [
       "         union  year               title  \\\n",
       "0  LO centralt  2010  Arbetare utnyttjas   \n",
       "1  LO centralt  2010  Arbetare utnyttjas   \n",
       "2  LO centralt  2010  Arbetare utnyttjas   \n",
       "3  LO centralt  2010  Arbetare utnyttjas   \n",
       "4  LO centralt  2010  Arbetare utnyttjas   \n",
       "\n",
       "                                            sentence  \n",
       "0  Arbetare utnyttjas grovt  Arbetare utnyttjas g...  \n",
       "1   Den bedömningen gör professor Gregor Noll på ...  \n",
       "2   Han ser två tunga orsaker till att papperslös...  \n",
       "3   – Det ena är att vi allt mer konkurrerar med ...  \n",
       "4   Det andra skälet är, enligt Gregor Noll, att ...  "
      ]
     },
     "execution_count": 6,
     "metadata": {},
     "output_type": "execute_result"
    }
   ],
   "source": [
    "df1.head() ## 15395*4"
   ]
  },
  {
   "cell_type": "markdown",
   "metadata": {},
   "source": [
    "#### Tokenizer and POSer"
   ]
  },
  {
   "cell_type": "code",
   "execution_count": 7,
   "metadata": {},
   "outputs": [],
   "source": [
    "import stanza\n",
    "\n",
    "#stanza.download('sv')"
   ]
  },
  {
   "cell_type": "code",
   "execution_count": 8,
   "metadata": {},
   "outputs": [
    {
     "name": "stderr",
     "output_type": "stream",
     "text": [
      "2021-03-08 20:35:23 INFO: Loading these models for language: sv (Swedish):\n",
      "=========================\n",
      "| Processor | Package   |\n",
      "-------------------------\n",
      "| tokenize  | talbanken |\n",
      "| pos       | talbanken |\n",
      "| lemma     | talbanken |\n",
      "=========================\n",
      "\n",
      "2021-03-08 20:35:23 INFO: Use device: cpu\n",
      "2021-03-08 20:35:23 INFO: Loading: tokenize\n",
      "2021-03-08 20:35:23 INFO: Loading: pos\n",
      "2021-03-08 20:35:24 INFO: Loading: lemma\n",
      "2021-03-08 20:35:24 INFO: Done loading processors!\n"
     ]
    }
   ],
   "source": [
    "nlp=stanza.Pipeline(lang='sv',processors='tokenize,lemma,pos')"
   ]
  },
  {
   "cell_type": "code",
   "execution_count": 9,
   "metadata": {},
   "outputs": [],
   "source": [
    "## Tokenizer\n",
    "def preprocess(doc):\n",
    "    tok=nlp(doc)\n",
    "    re1=[]\n",
    "    re2=[]\n",
    "    stop=['.',':',',','i','att','med','på','en','ett','till','och','-','–','den',\n",
    "          'vara','av','som','men','till','denna','för','in','(',')','eller',\n",
    "          'sån','sedan','•','?','om','!','%','&','--','\\'','*','**','\"','”','“','[avläsT',\n",
    "          '[',']','/','»','«',';','=','+',\n",
    "          '[accessed','[aläst','[avläst','[online]','[sg_popup','[ur', '[vläst',\n",
    "          '‚ä®sverige', '…','‰r','″', '→', '●', '\\uf0b7']\n",
    "    za1=['\"','(',')','“','”','*',':',',','.']\n",
    "    for sentence in tok.sentences:\n",
    "        for word in sentence.words:\n",
    "            #print(word.lemma)\n",
    "            if word.text in stop or word.text.isnumeric(): ## remove stop words and numbers\n",
    "                pass            \n",
    "            elif len(set(list('0123456789')).intersection(set(list(word.text))))>0: \n",
    "                pass            \n",
    "            elif word.text not in za1 and len(set(za1).intersection(set(list(word.text))))>0:\n",
    "                tem=str(word.text)\n",
    "                for za in za1:\n",
    "                    if tem.__contains__(za):\n",
    "                        #print(tem)\n",
    "                        ha=list(tem)\n",
    "                        ha.remove(za)\n",
    "                        tem=''.join(ha)\n",
    "                #print(tem)\n",
    "                if len(tem)>0:\n",
    "                    f=[e.words for e in nlp(tem).sentences]\n",
    "                    if len(f)>0:\n",
    "                        re1.append(f[0][0].lemma)\n",
    "                        re2.append(f[0][0].pos)\n",
    "            elif word.text.endswith('-') or word.text.startswith('-') and word.text!='-' and word.text!='--':\n",
    "                #print(word.text)\n",
    "                mu=word.text.replace('-','')\n",
    "                if len(mu)>0:  ## modified when building em_common_sum\n",
    "                    f=[e.words for e in nlp(mu).sentences]     \n",
    "                    re1.append(f[0][0].lemma)\n",
    "                    re2.append(f[0][0].pos)\n",
    "            else:\n",
    "                re1.append(word.lemma)\n",
    "                re2.append(word.pos)\n",
    "\n",
    "        \n",
    "    return re1,re2\n",
    "\n",
    "def tokenizer(doc):\n",
    "    re,_=preprocess(doc)\n",
    "    return re\n",
    "\n",
    "def pos(doc):\n",
    "    _,re=preprocess(doc)\n",
    "    return re\n",
    "\n",
    "## tokenizer('jag var ingejörer')\n",
    "## ['jag', 'vara', 'ingejör']\n",
    "## tokenizer(df['press'][6])\n",
    "\n",
    "#t=tokenizer(df['press'][368])  ## tokenizer\n",
    "#p=pos(df['press'][368])  ## get POS "
   ]
  },
  {
   "cell_type": "code",
   "execution_count": 10,
   "metadata": {},
   "outputs": [
    {
     "data": {
      "text/plain": [
       "['denna',\n",
       " 'eftersom',\n",
       " 'vissa',\n",
       " 'stanna',\n",
       " 'kvar',\n",
       " 'efter',\n",
       " 'arbetstillstånd',\n",
       " 'löpa',\n",
       " 'ut']"
      ]
     },
     "execution_count": 10,
     "metadata": {},
     "output_type": "execute_result"
    }
   ],
   "source": [
    "tokenizer(df1['sentence'][6])"
   ]
  },
  {
   "cell_type": "markdown",
   "metadata": {},
   "source": [
    "### 2. Embeddings training"
   ]
  },
  {
   "cell_type": "code",
   "execution_count": 302,
   "metadata": {},
   "outputs": [],
   "source": [
    "def dis(weight,vec,word):  ##  L2 norm distance between word a and b\n",
    "    return np.sqrt(np.sum(np.square(vec-weight[word])))\n",
    "\n",
    "def avg(weight,group,size):  ## calculate average vectors for word groups\n",
    "    re=np.array(np.zeros(size))\n",
    "    n=0\n",
    "    for word in group:\n",
    "        if word in weight.vocab:\n",
    "            n+=1\n",
    "            re+=weight[word]\n",
    "    return re/n\n",
    "\n",
    "def rnd(weight,nwords,swords,iwords,size):  ## relative norm distance\n",
    "    svec=avg(weight,swords,size)\n",
    "    ivec=avg(weight,iwords,size)\n",
    "    re=0\n",
    "    n=0\n",
    "    for word in nwords:\n",
    "        if word in weight.vocab:\n",
    "            n+=1\n",
    "            re+=dis(weight,svec,word)-dis(weight,ivec,word) ##  dis(swords)-dis(iwords)\n",
    "    return re/n"
   ]
  },
  {
   "cell_type": "code",
   "execution_count": 347,
   "metadata": {},
   "outputs": [],
   "source": [
    "def train(par,li,sentences,niter,window,min_count,size,sg,hs,workers,nwords,swords,iwords):    \n",
    "    for ele in li:\n",
    "        print(par,':',ele)\n",
    "\n",
    "        if par=='year':\n",
    "            ind=[i for i,e in enumerate(df1[par]) if e in [ele-1,ele,ele+1]]  ## filter index   \n",
    "        if par=='union':\n",
    "            ind=[i for i,e in enumerate(df1[par]) if e==ele]  ## filter index    \n",
    "\n",
    "        em=[]\n",
    "        for i in range(niter):\n",
    "            ## construct model\n",
    "            model= Word2Vec(sentences=list(np.array(sentences)[ind]),window=window,min_count=min_count,size=size,sg=sg,hs=hs,workers=workers)\n",
    "            em.append(rnd(model.wv,nwords,swords,iwords,size))\n",
    "            \n",
    "            if(not (i+1)%50): \n",
    "                print(i+1,\"/\",niter,\"done\")\n",
    "        \n",
    "        pickle.dump(em, open( (\"./States/code3_em_\"+str(ele)+\".p\"), \"wb\" ) ) ## save weights \n",
    "               \n",
    "    print(\"ALL DONE!\")  "
   ]
  },
  {
   "cell_type": "code",
   "execution_count": 344,
   "metadata": {},
   "outputs": [],
   "source": [
    "nwords=['arbetsmarknad','jobb','chans','tjänst','yrke',\n",
    "        'arbetsförmedling','arbetstagare','lön','intervju','anställning']  ## neutral words 10\n",
    "swords=['svensk','medborgare','inrikes','Tomas','Björn',\n",
    "        'Lena','anna','Stefan','Karin','Sara',\n",
    "        'Malin','Andreas','Jan','Johansson','Maria',\n",
    "        'Erik','Sven','Peter','Carl','Mikael',\n",
    "        'Elisabeth','Eva','Kristina','Birgitta']  ## svensk group 25\n",
    "iwords=['invandrare','flykting','migration','visum',\n",
    "        'asyl','utomlands','arbetstillstånd','migrationsverket','asylsökande',\n",
    "        'arbetskraftsinvandring','nyanlända']  ## immigrants group 10"
   ]
  },
  {
   "cell_type": "markdown",
   "metadata": {},
   "source": [
    "#### Train by years"
   ]
  },
  {
   "cell_type": "code",
   "execution_count": 317,
   "metadata": {},
   "outputs": [
    {
     "name": "stdout",
     "output_type": "stream",
     "text": [
      "year : 2011\n",
      "50 / 100 done\n",
      "100 / 100 done\n",
      "year : 2012\n",
      "50 / 100 done\n",
      "100 / 100 done\n",
      "year : 2013\n",
      "50 / 100 done\n",
      "100 / 100 done\n",
      "year : 2014\n",
      "50 / 100 done\n",
      "100 / 100 done\n",
      "year : 2015\n",
      "50 / 100 done\n",
      "100 / 100 done\n",
      "year : 2016\n",
      "50 / 100 done\n",
      "100 / 100 done\n",
      "year : 2017\n",
      "50 / 100 done\n",
      "100 / 100 done\n",
      "year : 2018\n",
      "50 / 100 done\n",
      "100 / 100 done\n",
      "year : 2019\n",
      "50 / 100 done\n",
      "100 / 100 done\n",
      "ALL DONE!\n"
     ]
    }
   ],
   "source": [
    "years=[e+2011 for e in list(range(9))]   ### year 2011-2019\n",
    "train(par='year',li=years,sentences=sen,niter=100,window=5,min_count=5,size=100,sg=0,hs=1,workers=4,nwords=nwords,swords=swords,iwords=iwords)"
   ]
  },
  {
   "cell_type": "markdown",
   "metadata": {},
   "source": [
    "#### Train by unions"
   ]
  },
  {
   "cell_type": "code",
   "execution_count": 349,
   "metadata": {
    "scrolled": true
   },
   "outputs": [
    {
     "name": "stdout",
     "output_type": "stream",
     "text": [
      "union : Livsmedelsarbetarförbundet\n",
      "50 / 100 done\n",
      "100 / 100 done\n",
      "union : Elektrikerförbundet\n",
      "50 / 100 done\n",
      "100 / 100 done\n",
      "union : Hotell- o resturangfacket\n",
      "50 / 100 done\n",
      "100 / 100 done\n",
      "union : Kommunalarbetarförbundet\n",
      "50 / 100 done\n",
      "100 / 100 done\n",
      "union : Transportarbetarförbundet\n",
      "50 / 100 done\n",
      "100 / 100 done\n",
      "union : Målarna\n",
      "50 / 100 done\n",
      "100 / 100 done\n",
      "union : IF Metall\n",
      "50 / 100 done\n",
      "100 / 100 done\n",
      "union : Handelsanställdas förbund\n",
      "50 / 100 done\n",
      "100 / 100 done\n",
      "union : Byggnadsarbetarförbundet\n",
      "50 / 100 done\n",
      "100 / 100 done\n",
      "union : Fastighetsansälldas förbund\n",
      "50 / 100 done\n",
      "100 / 100 done\n",
      "union : Seko\n",
      "50 / 100 done\n",
      "100 / 100 done\n",
      "union : LO centralt\n",
      "50 / 100 done\n",
      "100 / 100 done\n",
      "ALL DONE!\n"
     ]
    }
   ],
   "source": [
    "unions=list(set(list(df1['union'])))   ##  all unions\n",
    "train(par='union',li=unions,sentences=sen,niter=100,window=5,min_count=5,size=100,sg=0,hs=1,workers=4,nwords=nwords,swords=swords,iwords=iwords)"
   ]
  },
  {
   "cell_type": "markdown",
   "metadata": {},
   "source": [
    "### 3. Analysis"
   ]
  },
  {
   "cell_type": "code",
   "execution_count": 305,
   "metadata": {},
   "outputs": [],
   "source": [
    "from scipy import stats\n",
    "\n",
    "def ttest(a,b,alpha): ## test if rv A and B have significantly different mean \n",
    "    mu1=np.mean(a)\n",
    "    mu2=np.mean(b)\n",
    "    n1=len(a)\n",
    "    n2=len(b)\n",
    "    s1=np.var(a)\n",
    "    s2=np.var(b)\n",
    "    t=(mu1-mu2)/((  ((n1-1)*s1+(n2-1)*s2)/(n1+n2-2)  )*np.sqrt(1/n1+1/n2))\n",
    "    if(np.abs(t)<abs(stats.t(df=(n1+n2-2)).ppf(1-0.5*alpha))):\n",
    "        print(\"Embeddings for \"+str(a)+\" and \"+str(b)+\" are not significantly different\")\n",
    "    return 1-np.abs(stats.t.cdf(t,(n1+n2-2))-0.5)*2"
   ]
  },
  {
   "cell_type": "markdown",
   "metadata": {},
   "source": [
    "#### By years"
   ]
  },
  {
   "cell_type": "code",
   "execution_count": 318,
   "metadata": {},
   "outputs": [],
   "source": [
    "em_2011=pickle.load(open( (\"./States/code3_em_2011.p\"), \"rb\" ) )\n",
    "em_2012=pickle.load(open( (\"./States/code3_em_2012.p\"), \"rb\" ) )\n",
    "em_2013=pickle.load(open( (\"./States/code3_em_2013.p\"), \"rb\" ) )\n",
    "em_2014=pickle.load(open( (\"./States/code3_em_2014.p\"), \"rb\" ) )\n",
    "em_2015=pickle.load(open( (\"./States/code3_em_2015.p\"), \"rb\" ) )\n",
    "em_2016=pickle.load(open( (\"./States/code3_em_2016.p\"), \"rb\" ) )\n",
    "em_2017=pickle.load(open( (\"./States/code3_em_2017.p\"), \"rb\" ) )\n",
    "em_2018=pickle.load(open( (\"./States/code3_em_2018.p\"), \"rb\" ) )\n",
    "em_2019=pickle.load(open( (\"./States/code3_em_2019.p\"), \"rb\" ) )"
   ]
  },
  {
   "cell_type": "code",
   "execution_count": 319,
   "metadata": {},
   "outputs": [
    {
     "data": {
      "text/plain": [
       "array([[0., 0., 0., 0., 0., 0., 0., 0., 0.],\n",
       "       [0., 0., 0., 0., 0., 0., 0., 0., 0.],\n",
       "       [0., 0., 0., 0., 0., 0., 0., 0., 0.],\n",
       "       [0., 0., 0., 0., 0., 0., 0., 0., 0.],\n",
       "       [0., 0., 0., 0., 0., 0., 0., 0., 0.],\n",
       "       [0., 0., 0., 0., 0., 0., 0., 0., 0.],\n",
       "       [0., 0., 0., 0., 0., 0., 0., 0., 0.],\n",
       "       [0., 0., 0., 0., 0., 0., 0., 0., 0.],\n",
       "       [0., 0., 0., 0., 0., 0., 0., 0., 0.]])"
      ]
     },
     "execution_count": 319,
     "metadata": {},
     "output_type": "execute_result"
    }
   ],
   "source": [
    "years=[e+2011 for e in list(range(9))]  \n",
    "rnd_years_mean=[]\n",
    "rnd_years_up=[]\n",
    "rnd_years_low=[]\n",
    "t_ma_years=np.zeros((9,9))\n",
    "alpha=0.05\n",
    "\n",
    "for i,e in enumerate(years):\n",
    "    rnd_years_mean.append(np.mean(eval('em_'+str(years[i]))))\n",
    "    rnd_years_up.append(np.quantile(eval('em_'+str(years[i])),1-alpha,interpolation='lower'))\n",
    "    rnd_years_low.append(np.quantile(eval('em_'+str(years[i])),alpha,interpolation='higher'))\n",
    "    for j in list(range(len(years)))[i+1:]:\n",
    "        t_ma_years[i,j]=ttest(eval('em_'+str(years[i])),eval('em_'+str(years[j])),alpha)\n",
    "    \n",
    "rnd_years_mean=list(np.array(rnd_years_mean).flatten())\n",
    "rnd_years_up=list(np.array(rnd_years_up).flatten())\n",
    "rnd_years_low=list(np.array(rnd_years_low).flatten())\n",
    "t_ma_years"
   ]
  },
  {
   "cell_type": "code",
   "execution_count": 320,
   "metadata": {},
   "outputs": [
    {
     "data": {
      "image/png": "[encoded data removed]",
      "text/plain": [
       "<Figure size 432x288 with 1 Axes>"
      ]
     },
     "metadata": {
      "needs_background": "light"
     },
     "output_type": "display_data"
    }
   ],
   "source": [
    "fig, ax = plt.subplots();\n",
    "ax.plot(years,rnd_years_mean);\n",
    "ax.fill_between(years, rnd_years_low, rnd_years_up, color='b', alpha=.1);\n",
    "ax.set_title('Relative Norm Distance (RND) through Years');\n",
    "ax.set_xlabel('year');\n",
    "ax.set_ylabel('RND');"
   ]
  },
  {
   "cell_type": "code",
   "execution_count": 322,
   "metadata": {},
   "outputs": [
    {
     "data": {
      "text/plain": [
       "[0.03254769227474995,\n",
       " 0.0800989530890483,\n",
       " 0.21468565077420543,\n",
       " 0.27675357138454276,\n",
       " 0.15233670860752094,\n",
       " 0.15665975883650135,\n",
       " 0.26411073341070906,\n",
       " 0.29677222808006193,\n",
       " 0.09427296334942517]"
      ]
     },
     "execution_count": 322,
     "metadata": {},
     "output_type": "execute_result"
    }
   ],
   "source": [
    "rnd_years_mean"
   ]
  },
  {
   "cell_type": "markdown",
   "metadata": {},
   "source": [
    "#### By unions"
   ]
  },
  {
   "cell_type": "markdown",
   "metadata": {},
   "source": [
    "Trade Unions (2010-2020, förbundspress):\n",
    "    * A, LO centralt\n",
    "    * HR, Hotell- o resturangfacket;\n",
    "    * H, Handelsanställdas förbund\n",
    "    * L, Livsmedelsarbetarförbundet\n",
    "    * K, Kommunalarbetarförbundet\n",
    "    * DA,IF Metall\n",
    "    * FF,Fastighetsansälldas förbund\n",
    "    * BA,Byggnadsarbetarförbundet\n",
    "    * E, Elektrikerförbundet\n",
    "    * M, Målarna\n",
    "    * S, Seko\n",
    "    * T, Transportarbetarförbundet"
   ]
  },
  {
   "cell_type": "code",
   "execution_count": 350,
   "metadata": {},
   "outputs": [],
   "source": [
    "em_A=pickle.load(open( (\"./States/code3_em_LO centralt.p\"), \"rb\" ) )\n",
    "em_S=pickle.load(open( (\"./States/code3_em_Seko.p\"), \"rb\" ) )\n",
    "em_DA=pickle.load(open( (\"./States/code3_em_IF Metall.p\"), \"rb\" ) )\n",
    "em_T=pickle.load(open( (\"./States/code3_em_Transportarbetarförbundet.p\"), \"rb\" ) )\n",
    "em_FF=pickle.load(open( (\"./States/code3_em_Fastighetsansälldas förbund.p\"), \"rb\" ) )\n",
    "em_HR=pickle.load(open( (\"./States/code3_em_Hotell- o resturangfacket.p\"), \"rb\" ) )\n",
    "em_K=pickle.load(open( (\"./States/code3_em_Kommunalarbetarförbundet.p\"), \"rb\" ) )\n",
    "em_L=pickle.load(open( (\"./States/code3_em_Livsmedelsarbetarförbundet.p\"), \"rb\" ) )\n",
    "em_H=pickle.load(open( (\"./States/code3_em_Handelsanställdas förbund.p\"), \"rb\" ) )\n",
    "em_BA=pickle.load(open( (\"./States/code3_em_Byggnadsarbetarförbundet.p\"), \"rb\" ) )\n",
    "em_E=pickle.load(open( (\"./States/code3_em_Elektrikerförbundet.p\"), \"rb\" ) )\n",
    "em_M=pickle.load(open( (\"./States/code3_em_Målarna.p\"), \"rb\" ) )"
   ]
  },
  {
   "cell_type": "code",
   "execution_count": 351,
   "metadata": {},
   "outputs": [
    {
     "data": {
      "text/plain": [
       "array([[0., 0., 0., 0., 0., 0., 0., 0., 0., 0., 0., 0.],\n",
       "       [0., 0., 0., 0., 0., 0., 0., 0., 0., 0., 0., 0.],\n",
       "       [0., 0., 0., 0., 0., 0., 0., 0., 0., 0., 0., 0.],\n",
       "       [0., 0., 0., 0., 0., 0., 0., 0., 0., 0., 0., 0.],\n",
       "       [0., 0., 0., 0., 0., 0., 0., 0., 0., 0., 0., 0.],\n",
       "       [0., 0., 0., 0., 0., 0., 0., 0., 0., 0., 0., 0.],\n",
       "       [0., 0., 0., 0., 0., 0., 0., 0., 0., 0., 0., 0.],\n",
       "       [0., 0., 0., 0., 0., 0., 0., 0., 0., 0., 0., 0.],\n",
       "       [0., 0., 0., 0., 0., 0., 0., 0., 0., 0., 0., 0.],\n",
       "       [0., 0., 0., 0., 0., 0., 0., 0., 0., 0., 0., 0.],\n",
       "       [0., 0., 0., 0., 0., 0., 0., 0., 0., 0., 0., 0.],\n",
       "       [0., 0., 0., 0., 0., 0., 0., 0., 0., 0., 0., 0.]])"
      ]
     },
     "execution_count": 351,
     "metadata": {},
     "output_type": "execute_result"
    }
   ],
   "source": [
    "unions=['A','S','DA','T','FF','HR','K','L','H','BA','E','M']\n",
    "rnd_unions_mean=[]\n",
    "rnd_unions_up=[]\n",
    "rnd_unions_low=[]\n",
    "t_ma_unions=np.zeros((12,12))\n",
    "alpha=0.05\n",
    "\n",
    "for i,e in enumerate(unions):\n",
    "    rnd_unions_mean.append(np.mean(eval('em_'+str(unions[i]))))\n",
    "    rnd_unions_up.append(np.quantile(eval('em_'+str(unions[i])),1-alpha,interpolation='lower'))\n",
    "    rnd_unions_low.append(np.quantile(eval('em_'+str(unions[i])),alpha,interpolation='higher'))\n",
    "    for j in list(range(len(unions)))[i+1:]:\n",
    "        t_ma_unions[i,j]=ttest(eval('em_'+str(unions[i])),eval('em_'+str(unions[j])),alpha)\n",
    "    \n",
    "rnd_unions_mean=list(np.array(rnd_unions_mean).flatten())\n",
    "rnd_unions_up=list(np.array(rnd_unions_up).flatten())\n",
    "rnd_unions_low=list(np.array(rnd_unions_low).flatten())\n",
    "t_ma_unions"
   ]
  },
  {
   "cell_type": "code",
   "execution_count": 360,
   "metadata": {},
   "outputs": [
    {
     "data": {
      "image/png": "[encoded data removed]",
      "text/plain": [
       "<Figure size 432x288 with 1 Axes>"
      ]
     },
     "metadata": {
      "needs_background": "light"
     },
     "output_type": "display_data"
    }
   ],
   "source": [
    "ind=list(np.argsort(rnd_unions_mean))\n",
    "\n",
    "fig, ax = plt.subplots();\n",
    "ax.plot(list(np.array(unions)[ind]),list(np.array(rnd_unions_mean)[ind]));\n",
    "ax.fill_between(list(np.array(unions)[ind]), list(np.array(rnd_unions_low)[ind]), list(np.array(rnd_unions_up)[ind]), color='b', alpha=.1);\n",
    "ax.set_title('Relative Norm Distance (RND) among Unions');\n",
    "ax.set_xlabel('union');\n",
    "ax.set_ylabel('RND');"
   ]
  },
  {
   "cell_type": "code",
   "execution_count": 353,
   "metadata": {},
   "outputs": [
    {
     "data": {
      "text/plain": [
       "[0.20104387687690642,\n",
       " -0.004621612867342382,\n",
       " 0.23035366344154792,\n",
       " 0.05791799863630575,\n",
       " -0.18862152198848725,\n",
       " 0.3154094925854526,\n",
       " 0.019559513855637263,\n",
       " -0.02800947862823533,\n",
       " 0.09778005588238103,\n",
       " 0.2584316242935976,\n",
       " -0.08144926603208448,\n",
       " -0.007787334397872995]"
      ]
     },
     "execution_count": 353,
     "metadata": {},
     "output_type": "execute_result"
    }
   ],
   "source": [
    "rnd_unions_mean"
   ]
  },
  {
   "cell_type": "code",
   "execution_count": null,
   "metadata": {},
   "outputs": [],
   "source": []
  }
 ],
 "metadata": {
  "kernelspec": {
   "display_name": "Python 3",
   "language": "python",
   "name": "python3"
  },
  "language_info": {
   "codemirror_mode": {
    "name": "ipython",
    "version": 3
   },
   "file_extension": ".py",
   "mimetype": "text/x-python",
   "name": "python",
   "nbconvert_exporter": "python",
   "pygments_lexer": "ipython3",
   "version": "3.7.4"
  }
 },
 "nbformat": 4,
 "nbformat_minor": 4
}
